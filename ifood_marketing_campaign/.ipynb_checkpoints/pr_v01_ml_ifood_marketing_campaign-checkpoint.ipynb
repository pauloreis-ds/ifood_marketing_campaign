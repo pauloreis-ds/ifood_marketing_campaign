{
 "cells": [
  {
   "cell_type": "markdown",
   "metadata": {},
   "source": [
    "**Summary**\n",
    "\n",
    "    Helper Functions\n",
    "    0.0 Data Preparation\n",
    "        0.1 Data scaling\n",
    "        0.2 Feature Encoding\n",
    "    1.0 Feature Selection\n",
    "        1.1 Training Test Split\n",
    "            1.1.1. Testing Some Models\n",
    "        1.2 Feature Selector (Random Forest)\n",
    "    2.0 Machine Learning Modelling\n",
    "        2.1 Manual Feature Selection\n",
    "        2.2 Boruta Feature Selection\n",
    "    3.0 Hyperparameter Fine Tuning\n",
    "        3.1 Random Forest\n",
    "        3.2 Logistic Regression\n",
    "        3.3 Gradient Boosting\n",
    "    4.0 Final Comparisons\n",
    "        4.1 Dealing with Imbalance in Data\n",
    "            Boruta Features\n",
    "            All Features\n",
    "    5.0 Business Impact\n",
    "    Notes"
   ]
  },
  {
   "cell_type": "code",
   "execution_count": 1,
   "metadata": {},
   "outputs": [],
   "source": [
    "import pandas as pd\n",
    "import numpy as np\n",
    "import matplotlib.pyplot as plt\n",
    "import seaborn as sns\n",
    "\n",
    "from sklearn.model_selection import train_test_split\n",
    "from sklearn.preprocessing import MinMaxScaler\n",
    "\n",
    "from sklearn.ensemble import RandomForestClassifier\n",
    "from sklearn.ensemble import GradientBoostingClassifier\n",
    "from sklearn.linear_model import LogisticRegression\n",
    "\n",
    "from imblearn.over_sampling import SMOTE\n",
    "from imblearn.under_sampling import RandomUnderSampler\n",
    "from imblearn.over_sampling import RandomOverSampler\n",
    "\n",
    "from collections import Counter\n",
    "from sklearn.metrics import classification_report\n",
    "from sklearn.model_selection import cross_val_score\n",
    "from boruta import BorutaPy\n",
    "\n",
    "from sklearn.model_selection import RandomizedSearchCV, GridSearchCV\n",
    "\n",
    "\n",
    "from IPython.display import Audio \n",
    "from IPython.display import display as sound_alert\n",
    "\n",
    "from joblib import dump, load"
   ]
  },
  {
   "cell_type": "markdown",
   "metadata": {},
   "source": [
    "## Helper Functions"
   ]
  },
  {
   "cell_type": "code",
   "execution_count": 10,
   "metadata": {},
   "outputs": [],
   "source": [
    "def train_test_model(model, X_train, X_test, y_train, y_test):\n",
    "    model.fit(X_train, y_train)\n",
    "    y_pred = model.predict(X_test)\n",
    "    print(classification_report(y_test, y_pred))\n",
    "    return y_pred\n",
    "\n",
    "def allDone():\n",
    "  sound_alert(Audio(url='https://sound.peal.io/ps/audios/000/000/537/original/woo_vu_luvub_dub_dub.wav', autoplay=True))\n",
    "\n",
    "def cross_validation(model, X, y, cv=5, evaluation='accuracy'):\n",
    "    cross_validation = cross_val_score(model, X, y, cv=cv, scoring=evaluation)\n",
    "    evaluation_result = cross_validation.mean().round(2)\n",
    "    std = cross_validation.std().round(2)\n",
    "    print(f\"Average {evaluation}: {evaluation_result} +- {std}\")"
   ]
  },
  {
   "cell_type": "code",
   "execution_count": 2,
   "metadata": {},
   "outputs": [
    {
     "data": {
      "text/html": [
       "<div>\n",
       "<style scoped>\n",
       "    .dataframe tbody tr th:only-of-type {\n",
       "        vertical-align: middle;\n",
       "    }\n",
       "\n",
       "    .dataframe tbody tr th {\n",
       "        vertical-align: top;\n",
       "    }\n",
       "\n",
       "    .dataframe thead th {\n",
       "        text-align: right;\n",
       "    }\n",
       "</style>\n",
       "<table border=\"1\" class=\"dataframe\">\n",
       "  <thead>\n",
       "    <tr style=\"text-align: right;\">\n",
       "      <th></th>\n",
       "      <th>year_birth</th>\n",
       "      <th>education</th>\n",
       "      <th>marital_status</th>\n",
       "      <th>income</th>\n",
       "      <th>kidhome</th>\n",
       "      <th>teenhome</th>\n",
       "      <th>dt_customer</th>\n",
       "      <th>recency</th>\n",
       "      <th>mnt_wines</th>\n",
       "      <th>mnt_fruits</th>\n",
       "      <th>...</th>\n",
       "      <th>age</th>\n",
       "      <th>spent_percentage_wines</th>\n",
       "      <th>spent_percentage_fruits</th>\n",
       "      <th>spent_percentage_meat</th>\n",
       "      <th>spent_percentage_fish</th>\n",
       "      <th>spent_percentage_sweet</th>\n",
       "      <th>spent_percentage_gold</th>\n",
       "      <th>percentage_web_purchases</th>\n",
       "      <th>percentage_catalog_purchases</th>\n",
       "      <th>percentage_store_purchases</th>\n",
       "    </tr>\n",
       "  </thead>\n",
       "  <tbody>\n",
       "    <tr>\n",
       "      <th>300</th>\n",
       "      <td>1958</td>\n",
       "      <td>Graduation</td>\n",
       "      <td>Divorced</td>\n",
       "      <td>35246.0</td>\n",
       "      <td>1</td>\n",
       "      <td>1</td>\n",
       "      <td>2014-04-16</td>\n",
       "      <td>53</td>\n",
       "      <td>36</td>\n",
       "      <td>0</td>\n",
       "      <td>...</td>\n",
       "      <td>56</td>\n",
       "      <td>0.692308</td>\n",
       "      <td>0.0</td>\n",
       "      <td>0.230769</td>\n",
       "      <td>0.038462</td>\n",
       "      <td>0.038462</td>\n",
       "      <td>0.192308</td>\n",
       "      <td>0.428571</td>\n",
       "      <td>0.142857</td>\n",
       "      <td>0.428571</td>\n",
       "    </tr>\n",
       "  </tbody>\n",
       "</table>\n",
       "<p>1 rows × 44 columns</p>\n",
       "</div>"
      ],
      "text/plain": [
       "     year_birth   education marital_status   income  kidhome  teenhome  \\\n",
       "300        1958  Graduation       Divorced  35246.0        1         1   \n",
       "\n",
       "    dt_customer  recency  mnt_wines  mnt_fruits  ...  age  \\\n",
       "300  2014-04-16       53         36           0  ...   56   \n",
       "\n",
       "     spent_percentage_wines  spent_percentage_fruits  spent_percentage_meat  \\\n",
       "300                0.692308                      0.0               0.230769   \n",
       "\n",
       "     spent_percentage_fish  spent_percentage_sweet  spent_percentage_gold  \\\n",
       "300               0.038462                0.038462               0.192308   \n",
       "\n",
       "     percentage_web_purchases  percentage_catalog_purchases  \\\n",
       "300                  0.428571                      0.142857   \n",
       "\n",
       "     percentage_store_purchases  \n",
       "300                    0.428571  \n",
       "\n",
       "[1 rows x 44 columns]"
      ]
     },
     "execution_count": 2,
     "metadata": {},
     "output_type": "execute_result"
    }
   ],
   "source": [
    "raw_data = pd.read_pickle(\"data/data_to_ml.pkl\")\n",
    "raw_data.sample()"
   ]
  },
  {
   "cell_type": "markdown",
   "metadata": {},
   "source": [
    "## 0.0 Data Preparation"
   ]
  },
  {
   "cell_type": "code",
   "execution_count": 12,
   "metadata": {
    "scrolled": true
   },
   "outputs": [],
   "source": [
    "data = raw_data.copy()"
   ]
  },
  {
   "cell_type": "markdown",
   "metadata": {},
   "source": [
    "### 0.1 Data scaling"
   ]
  },
  {
   "cell_type": "code",
   "execution_count": 13,
   "metadata": {},
   "outputs": [],
   "source": [
    "columns = data.select_dtypes(include=['int64', 'float64']).columns"
   ]
  },
  {
   "cell_type": "code",
   "execution_count": 14,
   "metadata": {},
   "outputs": [],
   "source": [
    "min_max_scaler = MinMaxScaler() # range(0, 1)\n",
    "\n",
    "for column in columns:\n",
    "    if column != 'response':\n",
    "        data[column] = min_max_scaler.fit_transform(data[[column]].values) "
   ]
  },
  {
   "cell_type": "markdown",
   "metadata": {},
   "source": [
    "### 0.2 Feature Encoding"
   ]
  },
  {
   "cell_type": "code",
   "execution_count": 15,
   "metadata": {},
   "outputs": [],
   "source": [
    "codes = {'Basic':0, '2n Cycle':1, 'Graduation':2, 'Master':3, 'PhD':4}\n",
    "data['education'] = data['education'].map( codes )\n",
    "\n",
    "data = pd.get_dummies( data, prefix=['marital_status'], columns=['marital_status'] )"
   ]
  },
  {
   "cell_type": "markdown",
   "metadata": {},
   "source": [
    "## 1.0 Feature Selection"
   ]
  },
  {
   "cell_type": "code",
   "execution_count": 16,
   "metadata": {},
   "outputs": [],
   "source": [
    "df = data.copy()"
   ]
  },
  {
   "cell_type": "markdown",
   "metadata": {},
   "source": [
    "### 1.1 Training Test Split"
   ]
  },
  {
   "cell_type": "markdown",
   "metadata": {},
   "source": [
    "    \"accepted_cmp\"s\n",
    "    Next campaign will be done with customers who has never participated in those test campaigns.   \n",
    "    \n",
    "    \"dt_customer\"\n",
    "    It's not a time series problem. Though I could encode it\n",
    "   "
   ]
  },
  {
   "cell_type": "code",
   "execution_count": 17,
   "metadata": {},
   "outputs": [],
   "source": [
    "X = df.drop(columns=['response', 'dt_customer', 'num_accepted_cmps', 'accepted_cmp1', 'accepted_cmp2', 'accepted_cmp3', \n",
    "                     'accepted_cmp4', 'accepted_cmp5'])\n",
    "y = df['response']\n",
    "\n",
    "X_train, X_test, y_train, y_test = train_test_split(X, y, test_size=0.3, random_state=0)"
   ]
  },
  {
   "cell_type": "markdown",
   "metadata": {},
   "source": [
    "### 1.1.1. Testing Some Models\n",
    "\n",
    "                                    Average precision\n",
    "        \n",
    "        LogisticRegression           0.61 +- 0.11\n",
    "        GradientBoostingClassifier   0.55 +- 0.05\n",
    "        RandomForestClassifier       0.60 +- 0.14\n",
    "        \n",
    "[Precision VS Recall (by Google)](https://developers.google.com/machine-learning/crash-course/classification/precision-and-recall)"
   ]
  },
  {
   "cell_type": "code",
   "execution_count": 18,
   "metadata": {},
   "outputs": [
    {
     "name": "stdout",
     "output_type": "stream",
     "text": [
      "              precision    recall  f1-score   support\n",
      "\n",
      "           0       0.88      0.97      0.93       518\n",
      "           1       0.71      0.32      0.44        99\n",
      "\n",
      "    accuracy                           0.87       617\n",
      "   macro avg       0.80      0.65      0.69       617\n",
      "weighted avg       0.86      0.87      0.85       617\n",
      "\n",
      "Average precision: 0.61 +- 0.11\n"
     ]
    }
   ],
   "source": [
    "logistic = LogisticRegression(max_iter=500)\n",
    "\n",
    "predictions = train_test_model(logistic, X_train, X_test, y_train, y_test)\n",
    "cross_validation(logistic, X, y, cv=10, evaluation='precision') # Recall .32"
   ]
  },
  {
   "cell_type": "code",
   "execution_count": 19,
   "metadata": {},
   "outputs": [
    {
     "name": "stdout",
     "output_type": "stream",
     "text": [
      "              precision    recall  f1-score   support\n",
      "\n",
      "           0       0.88      0.97      0.92       518\n",
      "           1       0.65      0.31      0.42        99\n",
      "\n",
      "    accuracy                           0.86       617\n",
      "   macro avg       0.76      0.64      0.67       617\n",
      "weighted avg       0.84      0.86      0.84       617\n",
      "\n",
      "Average precision: 0.55 +- 0.05\n"
     ]
    }
   ],
   "source": [
    "gradient_boosting = GradientBoostingClassifier(random_state=42)\n",
    "\n",
    "predictions = train_test_model(gradient_boosting, X_train, X_test, y_train, y_test)\n",
    "cross_validation(gradient_boosting, X, y, cv=10, evaluation='precision')"
   ]
  },
  {
   "cell_type": "markdown",
   "metadata": {},
   "source": [
    "### 1.2 Feature Selector (Random Forest)"
   ]
  },
  {
   "cell_type": "code",
   "execution_count": 20,
   "metadata": {},
   "outputs": [
    {
     "name": "stdout",
     "output_type": "stream",
     "text": [
      "              precision    recall  f1-score   support\n",
      "\n",
      "           0       0.87      0.98      0.92       518\n",
      "           1       0.65      0.20      0.31        99\n",
      "\n",
      "    accuracy                           0.85       617\n",
      "   macro avg       0.76      0.59      0.61       617\n",
      "weighted avg       0.83      0.85      0.82       617\n",
      "\n",
      "Average precision: 0.6 +- 0.14\n"
     ]
    }
   ],
   "source": [
    "random_forest = RandomForestClassifier(random_state=42)\n",
    "\n",
    "predictions = train_test_model(random_forest, X_train, X_test, y_train, y_test)\n",
    "cross_validation(random_forest, X, y, cv=10, evaluation='precision')"
   ]
  },
  {
   "cell_type": "code",
   "execution_count": 21,
   "metadata": {},
   "outputs": [
    {
     "data": {
      "image/png": "[encoded data removed]",
      "text/plain": [
       "<Figure size 720x1008 with 1 Axes>"
      ]
     },
     "metadata": {
      "needs_background": "light"
     },
     "output_type": "display_data"
    }
   ],
   "source": [
    "feature_importances = pd.Series( random_forest.feature_importances_, index = X_test.columns ).sort_values()\n",
    "\n",
    "plt.figure(figsize=(10, 14))\n",
    "feature_importances.plot(kind='barh');\n",
    "plt.axvline(0.01, color='r');\n",
    "plt.yticks(fontsize=16);"
   ]
  },
  {
   "cell_type": "code",
   "execution_count": 22,
   "metadata": {},
   "outputs": [],
   "source": [
    "selected_columns = feature_importances[feature_importances > 0.01].index"
   ]
  },
  {
   "cell_type": "markdown",
   "metadata": {},
   "source": [
    "## 2.0 Machine Learning Modelling\n",
    "\n",
    "                                            Average precision\n",
    "                                    \n",
    "                                         Then            Now\n",
    "        \n",
    "        RandomForestClassifier       0.61 +- 0.11    0.50 +- 0.13 \n",
    "        LogisticRegression           0.55 +- 0.05    0.58 +- 0.12\n",
    "        GradientBoostingClassifier   0.60 +- 0.14    0.57 +- 0.09     \n",
    "        "
   ]
  },
  {
   "cell_type": "code",
   "execution_count": 23,
   "metadata": {},
   "outputs": [
    {
     "data": {
      "text/plain": [
       "(617, 33)"
      ]
     },
     "execution_count": 23,
     "metadata": {},
     "output_type": "execute_result"
    }
   ],
   "source": [
    "new_X = X[selected_columns]\n",
    "new_X_train = X_train[selected_columns]\n",
    "new_X_test = X_test[selected_columns]\n",
    "new_X_test.shape"
   ]
  },
  {
   "cell_type": "code",
   "execution_count": 25,
   "metadata": {},
   "outputs": [
    {
     "name": "stdout",
     "output_type": "stream",
     "text": [
      "              precision    recall  f1-score   support\n",
      "\n",
      "           0       0.86      0.97      0.91       518\n",
      "           1       0.56      0.20      0.30        99\n",
      "\n",
      "    accuracy                           0.85       617\n",
      "   macro avg       0.71      0.59      0.60       617\n",
      "weighted avg       0.81      0.85      0.81       617\n",
      "\n",
      "Average precision: 0.5 +- 0.13\n"
     ]
    }
   ],
   "source": [
    "predictions = train_test_model(random_forest, new_X_train, new_X_test, y_train, y_test)\n",
    "cross_validation(random_forest, new_X, y, cv=10, evaluation='precision') "
   ]
  },
  {
   "cell_type": "code",
   "execution_count": 26,
   "metadata": {},
   "outputs": [
    {
     "name": "stdout",
     "output_type": "stream",
     "text": [
      "              precision    recall  f1-score   support\n",
      "\n",
      "           0       0.87      0.97      0.92       518\n",
      "           1       0.59      0.23      0.33        99\n",
      "\n",
      "    accuracy                           0.85       617\n",
      "   macro avg       0.73      0.60      0.62       617\n",
      "weighted avg       0.82      0.85      0.82       617\n",
      "\n",
      "Average precision: 0.58 +- 0.12\n"
     ]
    }
   ],
   "source": [
    "predictions = train_test_model(logistic, new_X_train, new_X_test, y_train, y_test)\n",
    "cross_validation(logistic, new_X, y, cv=10, evaluation='precision') "
   ]
  },
  {
   "cell_type": "code",
   "execution_count": 27,
   "metadata": {},
   "outputs": [
    {
     "name": "stdout",
     "output_type": "stream",
     "text": [
      "              precision    recall  f1-score   support\n",
      "\n",
      "           0       0.88      0.97      0.92       518\n",
      "           1       0.66      0.33      0.44        99\n",
      "\n",
      "    accuracy                           0.87       617\n",
      "   macro avg       0.77      0.65      0.68       617\n",
      "weighted avg       0.85      0.87      0.85       617\n",
      "\n",
      "Average precision: 0.57 +- 0.09\n"
     ]
    }
   ],
   "source": [
    "predictions = train_test_model(gradient_boosting, new_X_train, new_X_test, y_train, y_test)\n",
    "cross_validation(gradient_boosting, new_X, y, cv=10, evaluation='precision')"
   ]
  },
  {
   "cell_type": "markdown",
   "metadata": {},
   "source": [
    "### 2.1 Manual Feature Selection"
   ]
  },
  {
   "cell_type": "markdown",
   "metadata": {},
   "source": [
    "**Precision when dropping**\n",
    "\n",
    "    ['amount_spent','loyalty_time_years'] \n",
    "    \n",
    "    .54 +- 0.14    .61 +- 0.11    .60 +- 0.11\n",
    "\n",
    "\n",
    "    ['spent_percentage_wines', 'spent_percentage_fruits', 'spent_percentage_meat', 'spent_percentage_fish', \n",
    "     'spent_percentage_sweet', 'spent_percentage_gold', 'percentage_web_purchases']\n",
    "    \n",
    "    .54 +- 0.14    .58 +- 0.13    .61 +- 0.10\n",
    "     \n",
    "     \n",
    "    ['mnt_wines', 'mnt_fruits', 'mnt_meat_products', 'mnt_fish_products', 'mnt_sweet_products', 'mnt_gold_prods']\n",
    "     \n",
    "    .52 +- 0.12    .63 +- 0.14    .57 +- 0.11\n",
    "    \n",
    "    \n",
    "    ['num_deals_purchases', 'num_web_purchases', 'num_catalog_purchases', 'num_store_purchases', 'num_web_visits_month']\n",
    "     \n",
    "    .53 +- 0.12    .62 +- 0.12    .57 +- 0.10"
   ]
  },
  {
   "cell_type": "code",
   "execution_count": 28,
   "metadata": {},
   "outputs": [],
   "source": [
    "to_drop = ['amount_spent','loyalty_time_years'] \n",
    "\n",
    "x_train = X_train.drop(columns=to_drop)\n",
    "x_test = X_test.drop(columns=to_drop)\n",
    "xx = X.drop(columns=to_drop)"
   ]
  },
  {
   "cell_type": "code",
   "execution_count": 29,
   "metadata": {},
   "outputs": [
    {
     "name": "stdout",
     "output_type": "stream",
     "text": [
      "              precision    recall  f1-score   support\n",
      "\n",
      "           0       0.86      0.98      0.92       518\n",
      "           1       0.62      0.16      0.26        99\n",
      "\n",
      "    accuracy                           0.85       617\n",
      "   macro avg       0.74      0.57      0.59       617\n",
      "weighted avg       0.82      0.85      0.81       617\n",
      "\n",
      "Average precision: 0.54 +- 0.14\n"
     ]
    }
   ],
   "source": [
    "predictions = train_test_model(random_forest, x_train, x_test, y_train, y_test)\n",
    "cross_validation(random_forest, xx, y, cv=10, evaluation='precision')"
   ]
  },
  {
   "cell_type": "code",
   "execution_count": 54,
   "metadata": {
    "scrolled": true
   },
   "outputs": [
    {
     "name": "stdout",
     "output_type": "stream",
     "text": [
      "              precision    recall  f1-score   support\n",
      "\n",
      "           0       0.88      0.97      0.93       518\n",
      "           1       0.70      0.31      0.43        99\n",
      "\n",
      "    accuracy                           0.87       617\n",
      "   macro avg       0.79      0.64      0.68       617\n",
      "weighted avg       0.85      0.87      0.85       617\n",
      "\n",
      "Average precision: 0.61 +- 0.11\n"
     ]
    }
   ],
   "source": [
    "predictions = train_test_model(logistic, x_train, x_test, y_train, y_test)\n",
    "cross_validation(logistic, xx, y, cv=10, evaluation='precision') "
   ]
  },
  {
   "cell_type": "code",
   "execution_count": 30,
   "metadata": {},
   "outputs": [
    {
     "name": "stdout",
     "output_type": "stream",
     "text": [
      "              precision    recall  f1-score   support\n",
      "\n",
      "           0       0.89      0.97      0.93       518\n",
      "           1       0.72      0.34      0.47        99\n",
      "\n",
      "    accuracy                           0.87       617\n",
      "   macro avg       0.80      0.66      0.70       617\n",
      "weighted avg       0.86      0.87      0.85       617\n",
      "\n",
      "Average precision: 0.6 +- 0.11\n"
     ]
    }
   ],
   "source": [
    "predictions = train_test_model(gradient_boosting, x_train, x_test, y_train, y_test)\n",
    "cross_validation(gradient_boosting, xx, y, cv=10, evaluation='precision') "
   ]
  },
  {
   "cell_type": "markdown",
   "metadata": {},
   "source": [
    "### 2.2 Boruta Feature Selection\n",
    "       \n",
    "                                            Average precision\n",
    "                                    \n",
    "                                        Testing        Feature        Boruta\n",
    "                                                     Importances\n",
    "        \n",
    "        RandomForestClassifier       0.61 +- 0.11    0.50 +- 0.13   0.44 +- 0.16\n",
    "        LogisticRegression           0.55 +- 0.05    0.58 +- 0.12   0.64 +- 0.16\n",
    "        GradientBoostingClassifier   0.60 +- 0.14    0.57 +- 0.09   0.55 +- 0.15"
   ]
  },
  {
   "cell_type": "code",
   "execution_count": 31,
   "metadata": {
    "scrolled": true
   },
   "outputs": [],
   "source": [
    "cols_selected_boruta = None\n",
    "# X_train_n, y_train_n = X_train.to_numpy(), y_train.to_numpy()\n",
    "\n",
    "# %time boruta = BorutaPy(  model, n_estimators='auto', verbose=2, random_state=42 ).fit( X_train_n, y_train_n )"
   ]
  },
  {
   "cell_type": "markdown",
   "metadata": {},
   "source": [
    "['recency', 'mnt_wines', 'mnt_meat_products', 'spent_percentage_meat', 'spent_percentage_gold', 'percentage_store_purchases']"
   ]
  },
  {
   "cell_type": "code",
   "execution_count": 273,
   "metadata": {
    "scrolled": true
   },
   "outputs": [
    {
     "data": {
      "text/plain": [
       "['recency',\n",
       " 'mnt_wines',\n",
       " 'mnt_meat_products',\n",
       " 'spent_percentage_meat',\n",
       " 'spent_percentage_gold',\n",
       " 'percentage_store_purchases']"
      ]
     },
     "execution_count": 273,
     "metadata": {},
     "output_type": "execute_result"
    }
   ],
   "source": [
    "# columns_selected = boruta.support_#.tolist()\n",
    "\n",
    "# cols_selected_boruta = X_train.iloc[:, columns_selected].columns.to_list()\n",
    "# cols_selected_boruta"
   ]
  },
  {
   "cell_type": "code",
   "execution_count": 95,
   "metadata": {},
   "outputs": [
    {
     "data": {
      "text/plain": [
       "['recency',\n",
       " 'mnt_wines',\n",
       " 'mnt_meat_products',\n",
       " 'spent_percentage_meat',\n",
       " 'spent_percentage_gold',\n",
       " 'percentage_store_purchases']"
      ]
     },
     "execution_count": 95,
     "metadata": {},
     "output_type": "execute_result"
    }
   ],
   "source": [
    "if cols_selected_boruta is None:\n",
    "    cols_selected_boruta = ['recency', 'mnt_wines', 'mnt_meat_products', 'spent_percentage_meat', 'spent_percentage_gold',\n",
    "                            'percentage_store_purchases']\n",
    "cols_selected_boruta"
   ]
  },
  {
   "cell_type": "markdown",
   "metadata": {},
   "source": [
    "All Features Run:\n",
    "\n",
    "**cols_selected_boruta = ['recency', 'mnt_wines', 'mnt_meat_products', 'loyalty_time_days', 'num_accepted_cmps',\n",
    "                        'loyalty_time_years', 'loyalty_time_months', 'spent_percentage_meat', 'spent_percentage_gold',\n",
    "                        'percentage_store_purchases']**"
   ]
  },
  {
   "cell_type": "code",
   "execution_count": 52,
   "metadata": {},
   "outputs": [],
   "source": [
    "boruta_X_train = X_train[cols_selected_boruta]\n",
    "boruta_X_test = X_test[cols_selected_boruta]\n",
    "boruta_X = X[cols_selected_boruta]"
   ]
  },
  {
   "cell_type": "code",
   "execution_count": 36,
   "metadata": {},
   "outputs": [
    {
     "name": "stdout",
     "output_type": "stream",
     "text": [
      "              precision    recall  f1-score   support\n",
      "\n",
      "           0       0.87      0.97      0.91       518\n",
      "           1       0.55      0.22      0.32        99\n",
      "\n",
      "    accuracy                           0.85       617\n",
      "   macro avg       0.71      0.59      0.61       617\n",
      "weighted avg       0.82      0.85      0.82       617\n",
      "\n",
      "Average precision: 0.44 +- 0.16\n"
     ]
    }
   ],
   "source": [
    "random_forest.fit(boruta_X_train, y_train)\n",
    "\n",
    "predictions = train_test_model(random_forest, boruta_X_train, boruta_X_test, y_train, y_test)\n",
    "cross_validation(random_forest, boruta_X, y, cv=10, evaluation='precision') "
   ]
  },
  {
   "cell_type": "code",
   "execution_count": 37,
   "metadata": {},
   "outputs": [
    {
     "name": "stdout",
     "output_type": "stream",
     "text": [
      "              precision    recall  f1-score   support\n",
      "\n",
      "           0       0.85      0.99      0.92       518\n",
      "           1       0.62      0.10      0.17        99\n",
      "\n",
      "    accuracy                           0.85       617\n",
      "   macro avg       0.74      0.54      0.54       617\n",
      "weighted avg       0.82      0.85      0.80       617\n",
      "\n",
      "Average precision: 0.64 +- 0.16\n"
     ]
    }
   ],
   "source": [
    "logistic.fit(boruta_X_train, y_train)\n",
    "\n",
    "predictions = train_test_model(logistic, boruta_X_train, boruta_X_test, y_train, y_test)\n",
    "cross_validation(logistic, boruta_X, y, cv=10, evaluation='precision') "
   ]
  },
  {
   "cell_type": "code",
   "execution_count": 38,
   "metadata": {},
   "outputs": [
    {
     "name": "stdout",
     "output_type": "stream",
     "text": [
      "              precision    recall  f1-score   support\n",
      "\n",
      "           0       0.87      0.96      0.91       518\n",
      "           1       0.52      0.24      0.33        99\n",
      "\n",
      "    accuracy                           0.84       617\n",
      "   macro avg       0.70      0.60      0.62       617\n",
      "weighted avg       0.81      0.84      0.82       617\n",
      "\n",
      "Average precision: 0.55 +- 0.15\n"
     ]
    }
   ],
   "source": [
    "gradient_boosting.fit(boruta_X_train, y_train)\n",
    "\n",
    "predictions = train_test_model(gradient_boosting, boruta_X_train, boruta_X_test, y_train, y_test)\n",
    "cross_validation(gradient_boosting, boruta_X, y, cv=10, evaluation='precision') "
   ]
  },
  {
   "cell_type": "markdown",
   "metadata": {},
   "source": [
    "## 3.0 Hyperparameter Fine Tuning"
   ]
  },
  {
   "cell_type": "markdown",
   "metadata": {},
   "source": [
    "### 3.1 Random Forest\n",
    "    \n",
    "    {'n_estimators': 800,\n",
    "     'min_samples_split': 2,\n",
    "     'min_samples_leaf': 2,\n",
    "     'max_features': 'auto',\n",
    "     'max_depth': 100,\n",
    "     'bootstrap': True}"
   ]
  },
  {
   "cell_type": "code",
   "execution_count": 115,
   "metadata": {},
   "outputs": [],
   "source": [
    "# parameters = {'bootstrap': [True, False],\n",
    "#               'max_depth': [10, 20, 30, 40, 50, 60, 70, 80, 90, 100, None],\n",
    "#               'max_features': ['auto', 'sqrt'],\n",
    "#               'min_samples_leaf': [1, 2, 4],\n",
    "#               'min_samples_split': [2, 5, 10],\n",
    "#               'n_estimators': [200, 400, 600, 800, 1000, 1200, 1400, 1600, 1800, 2000]}\n",
    "\n",
    "# clf = RandomizedSearchCV(random_forest, parameters, scoring=\"precision\", random_state=0)\n",
    "# search = clf.fit(boruta_X, y)\n",
    "# search.best_params_"
   ]
  },
  {
   "cell_type": "markdown",
   "metadata": {},
   "source": [
    "### 3.2 Logistic Regression\n",
    "\n",
    "    {'solver': 'lbfgs', 'penalty': 'l2', 'C': 1.0}"
   ]
  },
  {
   "cell_type": "code",
   "execution_count": 116,
   "metadata": {
    "scrolled": false
   },
   "outputs": [],
   "source": [
    "# parameters = {'solver': ['newton-cg', 'lbfgs', 'liblinear'],\n",
    "#               'penalty': ['none', 'l1', 'l2', 'elasticnet'] ,\n",
    "#               'C': np.logspace(-3,3,7)} \n",
    "\n",
    "# clf = RandomizedSearchCV(logistic, parameters, scoring=\"precision\", random_state=0)\n",
    "# search = clf.fit(boruta_X, y)\n",
    "# search.best_params_"
   ]
  },
  {
   "cell_type": "markdown",
   "metadata": {},
   "source": [
    "### 3.3 Gradient Boosting\n",
    "\n",
    "    {'n_estimators': 400,\n",
    "     'min_samples_split': 5,\n",
    "     'min_samples_leaf': 2,\n",
    "     'max_features': 'auto',\n",
    "     'max_depth': 90,\n",
    "     'learning_rate': 0.15}"
   ]
  },
  {
   "cell_type": "code",
   "execution_count": 117,
   "metadata": {
    "scrolled": true
   },
   "outputs": [],
   "source": [
    "# parameters = {\"learning_rate\": [0.05, 0.10, 0.15, 0.20, 0.25, 0.30 ] ,\n",
    "#               'max_depth': [10, 20, 30, 40, 50, 60, 70, 80, 90, 100, None],\n",
    "#               'max_features': ['auto', 'sqrt'],\n",
    "#               'min_samples_leaf': [1, 2, 4],\n",
    "#               'min_samples_split': [2, 5, 10],\n",
    "#               'n_estimators': [400, 600, 800, 1000, 1200, 1400]}       \n",
    "\n",
    "# clf = RandomizedSearchCV(gradient_boosting, parameters, scoring=\"precision\", random_state=0)\n",
    "# search = clf.fit(boruta_X, y)\n",
    "# search.best_params_"
   ]
  },
  {
   "cell_type": "code",
   "execution_count": 40,
   "metadata": {},
   "outputs": [],
   "source": [
    "# allDone()"
   ]
  },
  {
   "cell_type": "markdown",
   "metadata": {},
   "source": [
    "#### GridSearchCV\n",
    "\n",
    "I would give it a try with gradient_boost, since it showed the best result. But GridSearchCV is taking forever to finish... \n",
    "\n",
    "    more than 12 hours asdadasdasd\n",
    "\n",
    "(-.-)"
   ]
  },
  {
   "cell_type": "code",
   "execution_count": null,
   "metadata": {},
   "outputs": [],
   "source": [
    "# clf = GridSearchCV(gradient_boosting, parameters, scoring=\"precision\")\n",
    "# search = clf.fit(boruta_X, y)\n",
    "# search.best_params_\n",
    "# allDone()"
   ]
  },
  {
   "cell_type": "markdown",
   "metadata": {},
   "source": [
    "## 4.0 Final Comparisons     \n",
    "        \n",
    "                                                    Average precision\n",
    "                                    \n",
    "                                        Testing         Feature        Boruta      Boruta+Tuning\n",
    "                                                      Importances\n",
    "        \n",
    "        RandomForestClassifier       0.61 +- 0.11    0.50 +- 0.13   .44 +- 0.16    0.51 +- 0.14\n",
    "        LogisticRegression           0.55 +- 0.05    0.58 +- 0.12   .64 +- 0.16    0.64 +- 0.16\n",
    "        GradientBoostingClassifier   0.60 +- 0.14    0.57 +- 0.09   .55 +- 0.15    0.45 +- 0.15"
   ]
  },
  {
   "cell_type": "code",
   "execution_count": 57,
   "metadata": {},
   "outputs": [
    {
     "name": "stdout",
     "output_type": "stream",
     "text": [
      "              precision    recall  f1-score   support\n",
      "\n",
      "           0       0.82      0.71      0.76       105\n",
      "           1       0.69      0.80      0.74        83\n",
      "\n",
      "    accuracy                           0.75       188\n",
      "   macro avg       0.75      0.75      0.75       188\n",
      "weighted avg       0.76      0.75      0.75       188\n",
      "\n",
      "Average precision: 0.5 +- 0.13\n"
     ]
    }
   ],
   "source": [
    "random_forest = RandomForestClassifier(n_estimators=800, min_samples_split=2, min_samples_leaf=2, \n",
    "                                       max_features='auto', max_depth=100, bootstrap=True)\n",
    "\n",
    "predictions = train_test_model(random_forest, boruta_X_train, boruta_X_test, y_train, y_test)\n",
    "cross_validation(random_forest, boruta_X, y, cv=10, evaluation='precision')"
   ]
  },
  {
   "cell_type": "code",
   "execution_count": 56,
   "metadata": {},
   "outputs": [
    {
     "name": "stdout",
     "output_type": "stream",
     "text": [
      "              precision    recall  f1-score   support\n",
      "\n",
      "           0       0.76      0.62      0.68       105\n",
      "           1       0.61      0.76      0.68        83\n",
      "\n",
      "    accuracy                           0.68       188\n",
      "   macro avg       0.69      0.69      0.68       188\n",
      "weighted avg       0.70      0.68      0.68       188\n",
      "\n",
      "Average precision: 0.64 +- 0.16\n"
     ]
    }
   ],
   "source": [
    "logistic = LogisticRegression(solver='lbfgs', penalty='l2', C=1.0)\n",
    "\n",
    "predictions = train_test_model(logistic, boruta_X_train, boruta_X_test, y_train, y_test)\n",
    "cross_validation(logistic, boruta_X, y, cv=10, evaluation='precision')"
   ]
  },
  {
   "cell_type": "code",
   "execution_count": 44,
   "metadata": {},
   "outputs": [
    {
     "name": "stdout",
     "output_type": "stream",
     "text": [
      "              precision    recall  f1-score   support\n",
      "\n",
      "           0       0.87      0.96      0.91       518\n",
      "           1       0.51      0.23      0.32        99\n",
      "\n",
      "    accuracy                           0.84       617\n",
      "   macro avg       0.69      0.59      0.61       617\n",
      "weighted avg       0.81      0.84      0.82       617\n",
      "\n",
      "Average precision: 0.45 +- 0.15\n"
     ]
    }
   ],
   "source": [
    "gradient_boosting = GradientBoostingClassifier(n_estimators=400, min_samples_split=5, min_samples_leaf=2, max_features='auto',\n",
    "                                   max_depth=90, learning_rate=0.15)\n",
    "\n",
    "predictions = train_test_model(gradient_boosting, boruta_X_train, boruta_X_test, y_train, y_test)\n",
    "cross_validation(gradient_boosting, boruta_X, y, cv=10, evaluation='precision')"
   ]
  },
  {
   "cell_type": "markdown",
   "metadata": {},
   "source": [
    "## 4.1 Dealing with Imbalance in Data\n",
    "    \n",
    "                         Random Forest   Logistic Regression\n",
    "        Boruta Features:  0.74 +- 0.07      0.71 +- 0.07\n",
    "           All Features:  0.78 +- 0.05      0.82 +- 0.07"
   ]
  },
  {
   "cell_type": "code",
   "execution_count": 58,
   "metadata": {},
   "outputs": [
    {
     "data": {
      "text/plain": [
       "((2056, 40), (2056, 6))"
      ]
     },
     "execution_count": 58,
     "metadata": {},
     "output_type": "execute_result"
    }
   ],
   "source": [
    "X.shape, boruta_X.shape "
   ]
  },
  {
   "cell_type": "markdown",
   "metadata": {},
   "source": [
    "**Boruta Features**"
   ]
  },
  {
   "cell_type": "code",
   "execution_count": 59,
   "metadata": {},
   "outputs": [
    {
     "name": "stdout",
     "output_type": "stream",
     "text": [
      "Resampled dataset shape Counter({0: 312, 1: 312})\n"
     ]
    }
   ],
   "source": [
    "undersample = RandomUnderSampler(sampling_strategy='majority')\n",
    "X_under, y_under = undersample.fit_resample(boruta_X, y)\n",
    "print('Resampled dataset shape %s' % Counter(y_under))\n",
    "\n",
    "X_train, X_test, y_train, y_test = train_test_split(X_under, y_under, test_size=0.3, random_state=42)"
   ]
  },
  {
   "cell_type": "code",
   "execution_count": 104,
   "metadata": {},
   "outputs": [
    {
     "name": "stdout",
     "output_type": "stream",
     "text": [
      "              precision    recall  f1-score   support\n",
      "\n",
      "           0       0.82      0.66      0.73       105\n",
      "           1       0.65      0.82      0.73        83\n",
      "\n",
      "    accuracy                           0.73       188\n",
      "   macro avg       0.74      0.74      0.73       188\n",
      "weighted avg       0.75      0.73      0.73       188\n",
      "\n",
      "Average precision: 0.74 +- 0.07\n"
     ]
    }
   ],
   "source": [
    "predictions = train_test_model(random_forest, X_train, X_test, y_train, y_test)\n",
    "cross_validation(random_forest, X_under, y_under, cv=10, evaluation='precision')"
   ]
  },
  {
   "cell_type": "code",
   "execution_count": 103,
   "metadata": {},
   "outputs": [
    {
     "name": "stdout",
     "output_type": "stream",
     "text": [
      "              precision    recall  f1-score   support\n",
      "\n",
      "           0       0.79      0.67      0.72       105\n",
      "           1       0.65      0.77      0.70        83\n",
      "\n",
      "    accuracy                           0.71       188\n",
      "   macro avg       0.72      0.72      0.71       188\n",
      "weighted avg       0.72      0.71      0.71       188\n",
      "\n",
      "Average precision: 0.71 +- 0.07\n"
     ]
    }
   ],
   "source": [
    "predictions = train_test_model(logistic, X_train, X_test, y_train, y_test)\n",
    "cross_validation(logistic, X_under, y_under, cv=10, evaluation='precision')"
   ]
  },
  {
   "cell_type": "code",
   "execution_count": 105,
   "metadata": {},
   "outputs": [
    {
     "data": {
      "text/plain": [
       "['models/logistic_regression.joblib']"
      ]
     },
     "execution_count": 105,
     "metadata": {},
     "output_type": "execute_result"
    }
   ],
   "source": [
    "# dump(random_forest, 'models/random_forest.joblib') \n",
    "# dump(logistic, 'models/logistic_regression.joblib') "
   ]
  },
  {
   "cell_type": "markdown",
   "metadata": {},
   "source": [
    "**All Features**"
   ]
  },
  {
   "cell_type": "code",
   "execution_count": 106,
   "metadata": {},
   "outputs": [
    {
     "name": "stdout",
     "output_type": "stream",
     "text": [
      "Resampled dataset shape Counter({0: 312, 1: 312})\n"
     ]
    }
   ],
   "source": [
    "undersample = RandomUnderSampler(sampling_strategy='majority')\n",
    "X_under, y_under = undersample.fit_resample(X, y)\n",
    "print('Resampled dataset shape %s' % Counter(y_under))\n",
    "\n",
    "X_train, X_test, y_train, y_test = train_test_split(X_under, y_under, test_size=0.3, random_state=42)"
   ]
  },
  {
   "cell_type": "code",
   "execution_count": 111,
   "metadata": {
    "scrolled": true
   },
   "outputs": [
    {
     "name": "stdout",
     "output_type": "stream",
     "text": [
      "              precision    recall  f1-score   support\n",
      "\n",
      "           0       0.88      0.72      0.80       105\n",
      "           1       0.72      0.88      0.79        83\n",
      "\n",
      "    accuracy                           0.79       188\n",
      "   macro avg       0.80      0.80      0.79       188\n",
      "weighted avg       0.81      0.79      0.79       188\n",
      "\n",
      "Average precision: 0.78 +- 0.05\n"
     ]
    }
   ],
   "source": [
    "predictions = train_test_model(random_forest, X_train, X_test, y_train, y_test)\n",
    "cross_validation(random_forest, X_under, y_under, cv=10, evaluation='precision')"
   ]
  },
  {
   "cell_type": "code",
   "execution_count": 113,
   "metadata": {},
   "outputs": [
    {
     "name": "stdout",
     "output_type": "stream",
     "text": [
      "              precision    recall  f1-score   support\n",
      "\n",
      "           0       0.87      0.85      0.86       105\n",
      "           1       0.81      0.84      0.83        83\n",
      "\n",
      "    accuracy                           0.85       188\n",
      "   macro avg       0.84      0.85      0.84       188\n",
      "weighted avg       0.85      0.85      0.85       188\n",
      "\n",
      "Average precision: 0.82 +- 0.07\n"
     ]
    }
   ],
   "source": [
    "predictions = train_test_model(logistic, X_train, X_test, y_train, y_test)\n",
    "cross_validation(logistic, X_under, y_under, cv=10, evaluation='precision')"
   ]
  },
  {
   "cell_type": "markdown",
   "metadata": {},
   "source": [
    "## 5.0 Business Impact\n",
    "\n",
    "**Estimated Revenue for Next Campaign.**\n",
    "\n",
    "> Worst Scenario: R\\\\$ 15,675.73 <br>\n",
    "> **Expected:       R\\\\$ 17,390.27** <br>\n",
    "> Best Scenario:  R\\\\$ 19,104.80 <br>\n",
    "\n",
    "\n",
    "\n",
    "> _\"The total cost of the sample campaign was 6.720MU and the revenue generated_\n",
    ">\n",
    "> _by the customers who accepted the offer was 3.674MU. Globally the campaign_\n",
    ">\n",
    "> _had a profit of -3.046MU. The success rate of the campaign was 15%.\"_"
   ]
  },
  {
   "cell_type": "code",
   "execution_count": 1,
   "metadata": {},
   "outputs": [],
   "source": [
    "worst_detection_rate    = .64\n",
    "expected_detection_rate = .71\n",
    "best_detection_rate     = .78\n",
    "\n",
    "campaign_cost    = 6720\n",
    "customers        = 2240\n",
    "campaign_revenue = 3674\n",
    "success_rate     = .15\n",
    "revenue_per_customer = campaign_revenue/(customers*success_rate)\n",
    "acquisition_cost = campaign_cost/customers"
   ]
  },
  {
   "cell_type": "code",
   "execution_count": 5,
   "metadata": {},
   "outputs": [
    {
     "name": "stdout",
     "output_type": "stream",
     "text": [
      "Estimated Revenue for Next Campaign Scenarios.\n",
      "(Logistic Regression)\n",
      "Worst:    R$ 15675.73\n",
      "Expected: R$ 17390.27\n",
      "Best:     R$ 19104.8\n",
      "\n",
      "Estimated Revenue for Next Campaign Scenarios.\n",
      "(Random Forest)\n",
      "Worst:    R$ 16410.53\n",
      "Expected: R$ 18125.07\n",
      "Best:     R$ 19839.6\n"
     ]
    }
   ],
   "source": [
    "def estimate_revenue(customers_quantity, target_detection_rate, revenue_per_customer):\n",
    "    return (customers_quantity * target_detection_rate) * revenue_per_customer\n",
    "\n",
    "print(\"Estimated Revenue for Next Campaign Scenarios.\\n(Logistic Regression)\")\n",
    "print(f\"Worst:    R$ {round( estimate_revenue(customers, worst_detection_rate,    revenue_per_customer), 2)}\")\n",
    "print(f\"Expected: R$ {round( estimate_revenue(customers, expected_detection_rate, revenue_per_customer), 2)}\")\n",
    "print(f\"Best:     R$ {round( estimate_revenue(customers, best_detection_rate,     revenue_per_customer), 2)}\")\n",
    "print()\n",
    "print(\"Estimated Revenue for Next Campaign Scenarios.\\n(Random Forest)\")\n",
    "print(f\"Worst:    R$ {round( estimate_revenue(customers, .67,    revenue_per_customer), 2)}\")\n",
    "print(f\"Expected: R$ {round( estimate_revenue(customers, .74,    revenue_per_customer), 2)}\")\n",
    "print(f\"Best:     R$ {round( estimate_revenue(customers, .81,    revenue_per_customer), 2)}\")"
   ]
  },
  {
   "cell_type": "code",
   "execution_count": 13,
   "metadata": {},
   "outputs": [
    {
     "name": "stdout",
     "output_type": "stream",
     "text": [
      "Estimated Profit for Next Campaign Scenarios.\n",
      "(Logistic Regression)\n",
      "Worst:    R$ 11374.93\n",
      "Expected: R$ 12619.07\n",
      "Best:     R$ 13863.2\n",
      "\n",
      "Estimated Profit for Next Campaign Scenarios.\n",
      "(Random Forest)\n",
      "Worst:    R$ 11908.13\n",
      "Expected: R$ 13152.27\n",
      "Best:     R$ 14396.4\n"
     ]
    }
   ],
   "source": [
    "profit = revenue_per_customer - acquisition_cost\n",
    "\n",
    "print(\"Estimated Profit for Next Campaign Scenarios.\\n(Logistic Regression)\")\n",
    "print(f\"Worst:    R$ {round( estimate_revenue(customers, worst_detection_rate,    profit), 2)}\")\n",
    "print(f\"Expected: R$ {round( estimate_revenue(customers, expected_detection_rate, profit), 2)}\")\n",
    "print(f\"Best:     R$ {round( estimate_revenue(customers, best_detection_rate,     profit), 2)}\")\n",
    "print()\n",
    "print(\"Estimated Profit for Next Campaign Scenarios.\\n(Random Forest)\")\n",
    "print(f\"Worst:    R$ {round( estimate_revenue(customers, .67,    profit), 2)}\")\n",
    "print(f\"Expected: R$ {round( estimate_revenue(customers, .74,    profit), 2)}\")\n",
    "print(f\"Best:     R$ {round( estimate_revenue(customers, .81,    profit), 2)}\")"
   ]
  },
  {
   "cell_type": "code",
   "execution_count": 1,
   "metadata": {},
   "outputs": [
    {
     "name": "stdout",
     "output_type": "stream",
     "text": [
      "Current ROI:   -45.32738095238095\n",
      "Estimated ROI: 158.78377976190475 \n"
     ]
    }
   ],
   "source": [
    "revenue_then = 3674\n",
    "investment_cost = 6720\n",
    "revenue_now = 17390.27\n",
    "roi_then = (revenue_then - investment_cost) /investment_cost * 100\n",
    "roi_now  = (revenue_now - investment_cost) /investment_cost * 100\n",
    "print(f\"Current ROI:   {roi_then}\")\n",
    "print(f\"Estimated ROI: {roi_now} \")"
   ]
  },
  {
   "cell_type": "markdown",
   "metadata": {},
   "source": [
    "## Notes"
   ]
  },
  {
   "cell_type": "markdown",
   "metadata": {},
   "source": [
    "- Model features\n",
    "\n",
    "recency\tmnt_wines\tmnt_meat_products\tspent_percentage_meat\tspent_percentage_gold\tpercentage_store_purchases\n",
    "\n",
    "\n",
    "- Model Chosen\n",
    "\n",
    "Random Forest is slightly better than Logistic Regression, but it also is way heavier.<br>\n",
    "For this context, it would be a good idea to use it, but it may not be as the data and complexity of the model increase.<br>\n",
    "Since logistic regression showed us positive results as well, it could save us money on the cloud computing service cost without big performance losses. "
   ]
  },
  {
   "cell_type": "markdown",
   "metadata": {},
   "source": [
    "### <font color='grey'>Test</font>\n",
    "<font color='grey'>Trying to locate targets without machine learning. But with quantiles most probable to encounter the targets.</font>"
   ]
  },
  {
   "cell_type": "code",
   "execution_count": 3,
   "metadata": {},
   "outputs": [
    {
     "data": {
      "text/html": [
       "<div>\n",
       "<style scoped>\n",
       "    .dataframe tbody tr th:only-of-type {\n",
       "        vertical-align: middle;\n",
       "    }\n",
       "\n",
       "    .dataframe tbody tr th {\n",
       "        vertical-align: top;\n",
       "    }\n",
       "\n",
       "    .dataframe thead th {\n",
       "        text-align: right;\n",
       "    }\n",
       "</style>\n",
       "<table border=\"1\" class=\"dataframe\">\n",
       "  <thead>\n",
       "    <tr style=\"text-align: right;\">\n",
       "      <th></th>\n",
       "      <th>mean</th>\n",
       "      <th>count</th>\n",
       "    </tr>\n",
       "    <tr>\n",
       "      <th>income_cat</th>\n",
       "      <th></th>\n",
       "      <th></th>\n",
       "    </tr>\n",
       "  </thead>\n",
       "  <tbody>\n",
       "    <tr>\n",
       "      <th>(7464.0, 24307.5]</th>\n",
       "      <td>0.123077</td>\n",
       "      <td>195</td>\n",
       "    </tr>\n",
       "    <tr>\n",
       "      <th>(24307.5, 32313.0]</th>\n",
       "      <td>0.101942</td>\n",
       "      <td>206</td>\n",
       "    </tr>\n",
       "    <tr>\n",
       "      <th>(32313.0, 38552.0]</th>\n",
       "      <td>0.136585</td>\n",
       "      <td>205</td>\n",
       "    </tr>\n",
       "    <tr>\n",
       "      <th>(38552.0, 45143.0]</th>\n",
       "      <td>0.106796</td>\n",
       "      <td>206</td>\n",
       "    </tr>\n",
       "    <tr>\n",
       "      <th>(45143.0, 52095.5]</th>\n",
       "      <td>0.107317</td>\n",
       "      <td>205</td>\n",
       "    </tr>\n",
       "    <tr>\n",
       "      <th>(52095.5, 58113.0]</th>\n",
       "      <td>0.111650</td>\n",
       "      <td>206</td>\n",
       "    </tr>\n",
       "    <tr>\n",
       "      <th>(58113.0, 65052.0]</th>\n",
       "      <td>0.117073</td>\n",
       "      <td>205</td>\n",
       "    </tr>\n",
       "    <tr>\n",
       "      <th>(65052.0, 71691.0]</th>\n",
       "      <td>0.116505</td>\n",
       "      <td>206</td>\n",
       "    </tr>\n",
       "    <tr>\n",
       "      <th>(71691.0, 666666.0]</th>\n",
       "      <td>0.301703</td>\n",
       "      <td>411</td>\n",
       "    </tr>\n",
       "  </tbody>\n",
       "</table>\n",
       "</div>"
      ],
      "text/plain": [
       "                         mean  count\n",
       "income_cat                          \n",
       "(7464.0, 24307.5]    0.123077    195\n",
       "(24307.5, 32313.0]   0.101942    206\n",
       "(32313.0, 38552.0]   0.136585    205\n",
       "(38552.0, 45143.0]   0.106796    206\n",
       "(45143.0, 52095.5]   0.107317    205\n",
       "(52095.5, 58113.0]   0.111650    206\n",
       "(58113.0, 65052.0]   0.117073    205\n",
       "(65052.0, 71691.0]   0.116505    206\n",
       "(71691.0, 666666.0]  0.301703    411"
      ]
     },
     "execution_count": 3,
     "metadata": {},
     "output_type": "execute_result"
    }
   ],
   "source": [
    "frames = []\n",
    "data_frame = raw_data.copy()\n",
    "for c in data_frame.select_dtypes( include=['int64', 'float64'] ).columns:\n",
    "    quant = np.arange(0, 1, 0.1)          # Create a quantile array [.0 to .9]\n",
    "    quant.put(len(quant) - 1, 1)          # Replace quantile .9 -> 1\n",
    "    bins=np.nanquantile(data_frame[c], quant)   # Compute the quantile of the value\n",
    "    bins=np.unique(bins)                                 # Get the unique values \n",
    "    data_frame[f\"{c}_cat\"] = pd.cut(data_frame[c], bins) # to create groups according to that column distribution\n",
    "    \n",
    "    # What percentage of customers accepted the campaign in that group?\n",
    "    frames.append( data_frame.groupby(f\"{c}_cat\")['response'].agg(['mean','count']) )\n",
    "frames[1]"
   ]
  },
  {
   "cell_type": "code",
   "execution_count": 5,
   "metadata": {},
   "outputs": [],
   "source": [
    "frames[0]"
   ]
  },
  {
   "cell_type": "code",
   "execution_count": 7,
   "metadata": {},
   "outputs": [
    {
     "name": "stdout",
     "output_type": "stream",
     "text": [
      "Percent:   50.85 %\n",
      "Targets:   30\n",
      "Total:     59\n"
     ]
    }
   ],
   "source": [
    "targets = raw_data[(raw_data['income'] > 71000) & (raw_data['recency'] < 40) &\n",
    "                   (raw_data['loyalty_time_days'] > 420) & (raw_data['mean_amount_spent_per_month'] > 49)] \n",
    "\n",
    "print('Percent:  ', round( targets.response.sum()/targets.shape[0] * 100, 2), '%' )\n",
    "print('Targets:  ', targets.response.sum())\n",
    "print('Total:    ', targets.shape[0])"
   ]
  },
  {
   "cell_type": "markdown",
   "metadata": {},
   "source": [
    "- income_cat > 71mil\n",
    "\n",
    "- recency_cat < 40\n",
    "\n",
    "mnt_wine_cat > 420\n",
    "\n",
    "mnt_fruits_cat> 15\n",
    "\n",
    "mnt_meat_products_cat > 290\n",
    "\n",
    "mnt_fish_products_cat > 20\n",
    "\n",
    "mnt_sweet_products_cat > 14\n",
    "\n",
    "mnt_gold_prods_cat > 16\n",
    "\n",
    "num_catalog_purchases_cat > 2\n",
    "\n",
    "num_store_purchases_cat > 4\n",
    "\n",
    "num_purchases_cat > 12\n",
    "\n",
    "amount_spent_cat > 1000\n",
    "\n",
    "- loyalty_time_days_cat > 420\n",
    "\n",
    "loyalty_time_months_cat > 14\n",
    "\n",
    "- mean_amount_spent_per_month_cat > 49\n",
    "\n",
    "- age_cat < 36\n",
    "\n",
    "spent_percentage_wines_cat < 0.75\n",
    "\n",
    "spent_percentage_meat_cat > 0.35\n",
    "\n",
    "spent_percentage_fish_cat < 0.14\n",
    "\n",
    "spent_percentage_sweet_cat < 0.1\n",
    "\n",
    "percentage_web_purchases_cat > 0.3\n",
    "\n",
    "percentage_catalog_purchases_cat > 0.15\n",
    "\n",
    "percentage_store_purchases_cat < 0.4"
   ]
  }
 ],
 "metadata": {
  "kernelspec": {
   "display_name": "Python 3",
   "language": "python",
   "name": "python3"
  },
  "language_info": {
   "codemirror_mode": {
    "name": "ipython",
    "version": 3
   },
   "file_extension": ".py",
   "mimetype": "text/x-python",
   "name": "python",
   "nbconvert_exporter": "python",
   "pygments_lexer": "ipython3",
   "version": "3.7.7"
  }
 },
 "nbformat": 4,
 "nbformat_minor": 4
}
